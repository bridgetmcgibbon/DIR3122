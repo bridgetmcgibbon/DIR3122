{
 "cells": [
  {
   "cell_type": "code",
   "execution_count": 3,
   "id": "bc9a3064",
   "metadata": {},
   "outputs": [],
   "source": [
    "#DIR3122: Computational Fluid Dynamics - Step 1 (following along)\n",
    "#Bridget McGibbon"
   ]
  },
  {
   "cell_type": "code",
   "execution_count": 45,
   "id": "9f98fde0",
   "metadata": {},
   "outputs": [],
   "source": [
    "#load some libraries\n",
    "import numpy\n",
    "from matplotlib import pyplot\n",
    "import time, sys"
   ]
  },
  {
   "cell_type": "code",
   "execution_count": 46,
   "id": "300b81c2",
   "metadata": {},
   "outputs": [],
   "source": [
    "#this makes matplotlib plots appear in the notebook, instead of a seperate window\n",
    "%matplotlib inline"
   ]
  },
  {
   "cell_type": "code",
   "execution_count": null,
   "id": "48d95d97",
   "metadata": {},
   "outputs": [],
   "source": []
  },
  {
   "cell_type": "code",
   "execution_count": 47,
   "id": "06ad9706",
   "metadata": {},
   "outputs": [],
   "source": [
    "#now we want to make a 'grid' of evenly spaced points that is 2 units wide (and i suddenly realize why linspace is useful)\n",
    "nx = 41 #nx is the number of points\n",
    "dx = 2/(nx-1) #dx is the distance between points\n",
    "nt = 25 #nt is the number of timesteps\n",
    "dt = .025 #dt is the length of the timestep, making the timestep smaller \n",
    "c = 1 #c is the speed of the wave"
   ]
  },
  {
   "cell_type": "code",
   "execution_count": 48,
   "id": "0284e4a0",
   "metadata": {},
   "outputs": [],
   "source": [
    "u = numpy.ones(nx) #the function numpy.ones(x) makes an array with x elements that are all 1s"
   ]
  },
  {
   "cell_type": "code",
   "execution_count": 49,
   "id": "62b75b69",
   "metadata": {},
   "outputs": [
    {
     "name": "stdout",
     "output_type": "stream",
     "text": [
      "[1. 1. 1. 1. 1. 1. 1. 1. 1. 1. 2. 2. 2. 2. 2. 2. 2. 2. 2. 2. 2. 1. 1. 1.\n",
      " 1. 1. 1. 1. 1. 1. 1. 1. 1. 1. 1. 1. 1. 1. 1. 1. 1.]\n"
     ]
    }
   ],
   "source": [
    "#initial conditions: velocity is u=2 for 0.5 <= x <= 1, and u=1 everywhere else (\"hat function\")\n",
    "#int(x) converts x to type int \n",
    "#array[x:y] refers to the slice of elements from the xth to the yth element (including x and excluding y)\n",
    "u[int(.5/dx):int((1/dx) + 1)] = 2\n",
    "print(u)"
   ]
  },
  {
   "cell_type": "code",
   "execution_count": 50,
   "id": "fe056349",
   "metadata": {},
   "outputs": [
    {
     "data": {
      "text/plain": [
       "[<matplotlib.lines.Line2D at 0x7ffca43ac490>]"
      ]
     },
     "execution_count": 50,
     "metadata": {},
     "output_type": "execute_result"
    },
    {
     "data": {
      "image/png": "[encoded data removed]",
      "text/plain": [
       "<Figure size 432x288 with 1 Axes>"
      ]
     },
     "metadata": {
      "needs_background": "light"
     },
     "output_type": "display_data"
    }
   ],
   "source": [
    "#on the x-axis: an array of nx evenly spaced numbers, from 0 to 2\n",
    "#on the y-axis: the velocity array\n",
    "pyplot.plot(numpy.linspace(0,2,nx,), u)"
   ]
  },
  {
   "cell_type": "code",
   "execution_count": 51,
   "id": "6c9df258",
   "metadata": {},
   "outputs": [],
   "source": [
    "#we now need to apply the finite difference approximations to each element of u\n",
    "#using the forward difference approximation for the time derivative\n",
    "#and the backward difference approximation for the space derivative\n",
    "#we initialize an array to hold the results during the loop so we can apply them to the next step\n",
    "un = numpy.ones(nx)\n",
    "for n in range(1, nt): #we will run this loop over nt time steps\n",
    "    un = u.copy() #make a copy of u\n",
    "    for i in range(1, nx): #we will run a loop over nx points in space, starting on element one (otherwise the wave will loop back to the start)\n",
    "        u[i] = un[i] - c*(dt/dx)*(un[i]-un[i-1])"
   ]
  },
  {
   "cell_type": "code",
   "execution_count": 53,
   "id": "2f67c624",
   "metadata": {},
   "outputs": [
    {
     "data": {
      "image/png": "[encoded data removed]",
      "text/plain": [
       "<Figure size 432x288 with 1 Axes>"
      ]
     },
     "metadata": {
      "needs_background": "light"
     },
     "output_type": "display_data"
    }
   ],
   "source": [
    "pyplot.plot(numpy.linspace(0,2,nx), u)\n",
    "pyplot.ylim([0.9, 2.1]);"
   ]
  },
  {
   "cell_type": "code",
   "execution_count": null,
   "id": "bee5e199",
   "metadata": {},
   "outputs": [],
   "source": []
  },
  {
   "cell_type": "code",
   "execution_count": null,
   "id": "b7f35586",
   "metadata": {},
   "outputs": [],
   "source": []
  },
  {
   "cell_type": "code",
   "execution_count": null,
   "id": "9acd7797",
   "metadata": {},
   "outputs": [],
   "source": []
  }
 ],
 "metadata": {
  "kernelspec": {
   "display_name": "Python 3",
   "language": "python",
   "name": "python3"
  },
  "language_info": {
   "codemirror_mode": {
    "name": "ipython",
    "version": 3
   },
   "file_extension": ".py",
   "mimetype": "text/x-python",
   "name": "python",
   "nbconvert_exporter": "python",
   "pygments_lexer": "ipython3",
   "version": "3.8.8"
  }
 },
 "nbformat": 4,
 "nbformat_minor": 5
}
