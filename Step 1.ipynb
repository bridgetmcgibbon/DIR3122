{
 "cells": [
  {
   "cell_type": "code",
   "execution_count": 2,
   "id": "52c8ed7f",
   "metadata": {},
   "outputs": [],
   "source": [
    "#DIR3122: Computational Fluid Dynamics - Bridget McGibbon\n",
    "#Step 1: Linear Convection in 1D\n",
    "#this program uses a simplified version of the Navier-Stokes equation\n",
    "# to model the transport of a quantity u at a constant speed c over the x dimension.\n",
    "# the linear convection equation: (du/dt) + c(d(u/dx) = 0 \n",
    "# if u is velocity, then this is the propogation of a wave"
   ]
  },
  {
   "cell_type": "code",
   "execution_count": 3,
   "id": "cf2b0ae8",
   "metadata": {},
   "outputs": [],
   "source": [
    "#import libraries\n",
    "import numpy as np\n",
    "from matplotlib import pyplot\n",
    "import time, sys\n",
    "%matplotlib inline"
   ]
  },
  {
   "cell_type": "code",
   "execution_count": 4,
   "id": "126dfdbe",
   "metadata": {},
   "outputs": [
    {
     "name": "stdout",
     "output_type": "stream",
     "text": [
      "150\n",
      "5\n"
     ]
    },
    {
     "data": {
      "image/png": "[encoded data removed]",
      "text/plain": [
       "<Figure size 432x288 with 1 Axes>"
      ]
     },
     "metadata": {
      "needs_background": "light"
     },
     "output_type": "display_data"
    }
   ],
   "source": [
    "#initialize variables\n",
    "x = 3 #width of 'grid'\n",
    "nx = 50 #number of points\n",
    "dx = x/(nx-1) #distance between points\n",
    "dt = 0.01 #length of timestep\n",
    "nt = 150 #number of timesteps\n",
    "print(nt)\n",
    "\n",
    "c = 1 #speed of wave (not the speed of light)\n",
    "\n",
    "#initalize an array for the velocity of the fluid\n",
    "u = np.ones(nx)\n",
    "\n",
    "#set up initial conditions: velocity is 2 from 0.5 to 1, and 1 everywhere else\n",
    "u[int(0.5/dx):int((1/dx)+1)] = 2\n",
    "\n",
    "#graph initial velocity over the x-dimension. It should be a square wave\n",
    "xdimension = np.linspace(0,x,nx)\n",
    "pyplot.plot(xdimension, u, 'k')\n",
    "\n",
    "v = [1,2,3,4,5]\n",
    "print(v[-1])"
   ]
  },
  {
   "cell_type": "code",
   "execution_count": 9,
   "id": "9d12e8c6",
   "metadata": {},
   "outputs": [],
   "source": [
    "#the finite difference approximation comes from the first term of a taylor series expansion\n",
    "#use the forward difference approximation for the time derivative: (du/dt) = [u^(n+1)_(i) - u^(n)_(i)] / delta t\n",
    "#use the backwards difference approximation for the space derivative: (du/dx) = [u^(n)_(i) - u^(n)_(i-1)] / delta x\n",
    "#(where n is the time index and i is the space index)\n",
    "#so the linear convection equation becomes:\n",
    "# (u^(n+1)_(i) - u^(n)_(i))/delta t  +  c((u^(n)_(i) - u^(n)_(i-1))/delta x)  =  0 \n",
    "#and solving for u^(n+1)_i, we get\n",
    "# u^(n+1)_i = u^(n)_(i) - c*(delta t/delta x)*(u^(n)_(i) - u^(n)_(i-1))\n",
    "\n",
    "#initialize an array to hold the results from the previous iteration\n",
    "u_temp = np.ones(nx)\n",
    "for n in range (1, nt): #run this loop over n time steps, starting on the 1st timestep after the initial conditions\n",
    "    u_temp = u.copy()\n",
    "    for i in range(1, nx): #calculate u at each point in space, using the equation above; \n",
    "        u[i] = u_temp[i] - c*(dt/dx)*(u_temp[i]-u_temp[i-1])\n",
    "    #pyplot.plot(xdimension, u, 'k')  # < uncomment this to graph each iteration of the loop"
   ]
  },
  {
   "cell_type": "code",
   "execution_count": 10,
   "id": "21f919be",
   "metadata": {},
   "outputs": [
    {
     "data": {
      "text/plain": [
       "[<matplotlib.lines.Line2D at 0x7fe49a059460>]"
      ]
     },
     "execution_count": 10,
     "metadata": {},
     "output_type": "execute_result"
    },
    {
     "data": {
      "image/png": "[encoded data removed]",
      "text/plain": [
       "<Figure size 432x288 with 1 Axes>"
      ]
     },
     "metadata": {
      "needs_background": "light"
     },
     "output_type": "display_data"
    }
   ],
   "source": [
    "pyplot.plot(xdimension, u, 'k')"
   ]
  },
  {
   "cell_type": "code",
   "execution_count": null,
   "id": "4cec43bc",
   "metadata": {},
   "outputs": [],
   "source": []
  },
  {
   "cell_type": "raw",
   "id": "00a6ff9e",
   "metadata": {},
   "source": []
  },
  {
   "cell_type": "code",
   "execution_count": null,
   "id": "1f655423",
   "metadata": {},
   "outputs": [],
   "source": []
  }
 ],
 "metadata": {
  "kernelspec": {
   "display_name": "Python 3",
   "language": "python",
   "name": "python3"
  },
  "language_info": {
   "codemirror_mode": {
    "name": "ipython",
    "version": 3
   },
   "file_extension": ".py",
   "mimetype": "text/x-python",
   "name": "python",
   "nbconvert_exporter": "python",
   "pygments_lexer": "ipython3",
   "version": "3.8.8"
  }
 },
 "nbformat": 4,
 "nbformat_minor": 5
}
