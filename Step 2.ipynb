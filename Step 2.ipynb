{
 "cells": [
  {
   "cell_type": "code",
   "execution_count": 15,
   "id": "cd8c0c6e",
   "metadata": {},
   "outputs": [],
   "source": [
    "#DIR3122: Computational Fluid Dynamics - Bridget McGibbon\n",
    "#Step 2: Non-linear Convection in 1D"
   ]
  },
  {
   "cell_type": "code",
   "execution_count": 2,
   "id": "3d8ee111",
   "metadata": {},
   "outputs": [],
   "source": [
    "import numpy as np\n",
    "from matplotlib import pyplot\n",
    "%matplotlib inline"
   ]
  },
  {
   "cell_type": "code",
   "execution_count": 21,
   "id": "ba08393e",
   "metadata": {},
   "outputs": [
    {
     "data": {
      "text/plain": [
       "[<matplotlib.lines.Line2D at 0x7fb14fd1fd60>]"
      ]
     },
     "execution_count": 21,
     "metadata": {},
     "output_type": "execute_result"
    },
    {
     "data": {
      "image/png": "[encoded data removed]",
      "text/plain": [
       "<Figure size 432x288 with 1 Axes>"
      ]
     },
     "metadata": {
      "needs_background": "light"
     },
     "output_type": "display_data"
    }
   ],
   "source": [
    "nx = 41 #number of points in the 2 unit wide 'grid'\n",
    "dx = 2/(nx - 1) #distance between each point\n",
    "nt = 20 #number of timesteps \n",
    "dt = 0.025 #length of each timestep\n",
    "\n",
    "u = np.ones(nx) #initialize an array for u\n",
    "u[int(0.5/dx):int(1/dx)+1] = 2 #set the initial conditions\n",
    "\n",
    "xdimension = np.linspace(0,2,nx)\n",
    "pyplot.plot(xdimension, u)"
   ]
  },
  {
   "cell_type": "code",
   "execution_count": 26,
   "id": "2d25aa20",
   "metadata": {},
   "outputs": [],
   "source": [
    "#again, applying the finite difference approximations to each element of u\n",
    "#using the forward difference approximation for the time derivative\n",
    "#and the backward difference approximation for the space derivative\n",
    "#non-linear convection is the same as linear except we have u^(n)_(i) instead of c, so:\n",
    "#u^(n+1)_i = u^(n)_(i) - (u^(n)_(i))*(delta t/delta x)*(u^(n)_(i) - u^(n)_(i-1))\n",
    "\n",
    "#we initialize an array to hold the results during the loop so we can apply them to the next step\n",
    "un = np.ones(nx)\n",
    "for n in range(1, nt): #we will run this loop over nt time steps \n",
    "    un = u.copy() #make a copy of u\n",
    "    for i in range(1, nx): #we will run a loop over nx points in space, starting on element one (NOT element 0)\n",
    "        u[i] = un[i] - un[i]*(dt/dx)*(un[i]-un[i-1])\n",
    "        #pyplot.plot(xdimension, u)"
   ]
  },
  {
   "cell_type": "code",
   "execution_count": 27,
   "id": "6256602a",
   "metadata": {},
   "outputs": [
    {
     "data": {
      "image/png": "[encoded data removed]",
      "text/plain": [
       "<Figure size 432x288 with 1 Axes>"
      ]
     },
     "metadata": {
      "needs_background": "light"
     },
     "output_type": "display_data"
    }
   ],
   "source": [
    "pyplot.plot(xdimension, u)\n",
    "pyplot.ylim([0.9,2.1]);"
   ]
  },
  {
   "cell_type": "code",
   "execution_count": null,
   "id": "5a180385",
   "metadata": {},
   "outputs": [],
   "source": []
  },
  {
   "cell_type": "code",
   "execution_count": null,
   "id": "c9b88e27",
   "metadata": {},
   "outputs": [],
   "source": []
  },
  {
   "cell_type": "code",
   "execution_count": null,
   "id": "55d63aad",
   "metadata": {},
   "outputs": [],
   "source": []
  }
 ],
 "metadata": {
  "kernelspec": {
   "display_name": "Python 3",
   "language": "python",
   "name": "python3"
  },
  "language_info": {
   "codemirror_mode": {
    "name": "ipython",
    "version": 3
   },
   "file_extension": ".py",
   "mimetype": "text/x-python",
   "name": "python",
   "nbconvert_exporter": "python",
   "pygments_lexer": "ipython3",
   "version": "3.8.8"
  }
 },
 "nbformat": 4,
 "nbformat_minor": 5
}
